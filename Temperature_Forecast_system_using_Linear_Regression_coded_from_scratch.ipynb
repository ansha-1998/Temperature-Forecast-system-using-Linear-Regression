{
  "cells": [
    {
      "cell_type": "markdown",
      "source": [
        "# **Coding the Linear regression Model From Scratch**"
      ],
      "metadata": {
        "id": "dHeVhyzuOAuG"
      }
    },
    {
      "cell_type": "markdown",
      "source": [
        "## Import Statements"
      ],
      "metadata": {
        "id": "Fuh-16Vfrtp7"
      }
    },
    {
      "cell_type": "code",
      "execution_count": null,
      "metadata": {
        "deletable": false,
        "editable": false,
        "nbgrader": {
          "cell_type": "code",
          "checksum": "fe70877a859ee0a10e9d591778022f8a",
          "grade": false,
          "grade_id": "Import_Statements",
          "locked": true,
          "schema_version": 3,
          "solution": false,
          "task": false
        },
        "id": "wGY8PStloky3"
      },
      "outputs": [],
      "source": [
        "import numpy as np\n",
        "import pandas as pd\n",
        "from matplotlib import pyplot as plt\n",
        "#importing necessary libraries"
      ]
    },
    {
      "cell_type": "markdown",
      "metadata": {
        "deletable": false,
        "editable": false,
        "nbgrader": {
          "cell_type": "markdown",
          "checksum": "e36a214573fc40f26b45e72215d61375",
          "grade": false,
          "grade_id": "Normalize_Title",
          "locked": true,
          "schema_version": 3,
          "solution": false,
          "task": false
        },
        "id": "y3pISCproky5"
      },
      "source": [
        "## Normalize function \n",
        "\n",
        "Add your code in the cell below to normalize the independent variables, making them zero mean and unit variance."
      ]
    },
    {
      "cell_type": "code",
      "execution_count": null,
      "metadata": {
        "deletable": false,
        "nbgrader": {
          "cell_type": "code",
          "checksum": "0039f4480dfc6d62a548d976991c3a44",
          "grade": false,
          "grade_id": "Normalize_Function",
          "locked": false,
          "schema_version": 3,
          "solution": true,
          "task": false
        },
        "id": "rS3upFWtoky5"
      },
      "outputs": [],
      "source": [
        "def Normalize(X): # Output should be a normalized data matrix of the same dimension\n",
        "    '''\n",
        "    Normalize all columns of X using mean and standard deviation\n",
        "    '''\n",
        "    \n",
        "    X = (X - np.mean(X, axis = 0)) / np.std(X, axis = 0) \n",
        "    # columnwise calculating the mean of the matrix and subtracting all the values in the same column by that mean\n",
        "    # columnwise calculating the standard dev. of the matrix and dividing all the resulant values in the same column by that standard dev.\n",
        "\n",
        "    return X\n",
        "    #return the value     \n",
        "   # raise NotImplementedError()"
      ]
    },
    {
      "cell_type": "code",
      "execution_count": null,
      "metadata": {
        "deletable": false,
        "editable": false,
        "nbgrader": {
          "cell_type": "code",
          "checksum": "7797dd606a68f028c945acd08850d108",
          "grade": true,
          "grade_id": "Normalize_Test",
          "locked": true,
          "points": 5,
          "schema_version": 3,
          "solution": false,
          "task": false
        },
        "id": "ygO-K7bzoky6"
      },
      "outputs": [],
      "source": [
        "'''\n",
        "TEST CASES, DO NOT CHANGE\n",
        "'''\n",
        "''' case 1 - 1 dimensional array'''\n",
        "#X=np.array([[1,2,3],[3,4,5],[7,8,9]])\n",
        "X1=np.array([1,2,3])\n",
        "np.testing.assert_array_almost_equal(Normalize(X1),np.array([-1.224,  0.      ,  1.224]),decimal=3)\n",
        "''' case 2 - 2 dimensional array'''\n",
        "X2=np.array([[4,7,6],[3,8,9],[5,11,10]])\n",
        "np.testing.assert_array_almost_equal(Normalize(X2),np.array([[ 0.  , -0.980581, -1.372813],[-1.224745, -0.392232,  0.392232],[ 1.224745,  1.372813,  0.980581]]))\n",
        "''' case 3 - 1 dimensional array with float'''\n",
        "X3=np.array([5.5,6.7,3.2,6.7])\n",
        "np.testing.assert_array_almost_equal(Normalize(X3),np.array([-0.017,  0.822, -1.627,  0.822]),decimal=3)"
      ]
    },
    {
      "cell_type": "markdown",
      "metadata": {
        "id": "ccow4yKXoky7"
      },
      "source": [
        "## Prediction Function\n",
        "\n",
        "Given X and w, compute the predicted output. Do not forget to add 1's in X"
      ]
    },
    {
      "cell_type": "code",
      "execution_count": null,
      "metadata": {
        "deletable": false,
        "nbgrader": {
          "cell_type": "code",
          "checksum": "7b715eb6b4f2b77697550a46e173159a",
          "grade": false,
          "grade_id": "Prediction",
          "locked": false,
          "schema_version": 3,
          "solution": true,
          "task": false
        },
        "id": "3PRnu4F1oky7"
      },
      "outputs": [],
      "source": [
        "def Prediction (X, w): # Output should be a prediction vector y\n",
        "    '''\n",
        "    Compute Prediction given an input datamatrix X and weight vecor w. Output y = [X 1]w where 1 is a vector of all 1s \n",
        "    '''\n",
        "    \n",
        "    arr_of_ones = np.ones([len(X),1])   \n",
        "    #creating an array of number \"1\" of shape : (number of rows in X x 1)\n",
        "\n",
        "    getX = np.concatenate((X, arr_of_ones), axis = 1)  \n",
        "    # concatenation of the array of ones with the array  X\n",
        "\n",
        "    result = np.matmul(getX, w)   \n",
        "    #matrix multiplication of X with w\n",
        "\n",
        "    return result   \n",
        "    #retrun the result\n",
        "    #raise NotImplementedError()\n"
      ]
    },
    {
      "cell_type": "code",
      "execution_count": null,
      "metadata": {
        "deletable": false,
        "editable": false,
        "nbgrader": {
          "cell_type": "code",
          "checksum": "741f088432fb2ac3c49d3c9711d5c9c5",
          "grade": true,
          "grade_id": "PredictionTest",
          "locked": true,
          "points": 5,
          "schema_version": 3,
          "solution": false,
          "task": false
        },
        "id": "7vDdDzS4oky8"
      },
      "outputs": [],
      "source": [
        "'''\n",
        "TEST CASES, DO NOT CHANGE\n",
        "'''\n",
        "''' case 1 - Known input output matrix and weights 1'''\n",
        "X1 = np.array([[3,2],[1,1]])\n",
        "w1 = np.array([2,1,1]) \n",
        "np.testing.assert_array_equal(Prediction(X1,w1),np.array([9,4]))\n"
      ]
    },
    {
      "cell_type": "markdown",
      "metadata": {
        "deletable": false,
        "editable": false,
        "nbgrader": {
          "cell_type": "markdown",
          "checksum": "bb888c2310846a4ec20a151ff4b44291",
          "grade": false,
          "grade_id": "cell-6fda2832d5967072",
          "locked": true,
          "schema_version": 3,
          "solution": false,
          "task": false
        },
        "id": "CE6c5oM2oky9"
      },
      "source": [
        "## Loss Functions\n",
        "\n",
        "Code the four  loss functions:\n",
        "\n",
        "1. MSE loss is only for the error\n",
        "2. MAE loss is only for the error\n",
        "3. L2 loss is for MSE and L2 regularization, and can call MSE loss\n",
        "4. L1 loss is for MSE and L1 regularization, and can call MSE loss"
      ]
    },
    {
      "cell_type": "code",
      "execution_count": null,
      "metadata": {
        "deletable": false,
        "nbgrader": {
          "cell_type": "code",
          "checksum": "834438a2ea2e2b52359b9620e36d82b2",
          "grade": false,
          "grade_id": "MSE_Loss",
          "locked": false,
          "schema_version": 3,
          "solution": true,
          "task": false
        },
        "id": "Vx4oUdwRoky-"
      },
      "outputs": [],
      "source": [
        "def MSE_Loss (X, t, w, lamda =0): # Ouput should be a single number\n",
        "    '''\n",
        "    lamda=0 is a default argument to prevent errors if you pass lamda to a function that doesn't need it by mistake. \n",
        "    This allows us to call all loss functions with the same input format.\n",
        "    \n",
        "    You are encouraged read about default arguments by yourself online if you're not familiar.\n",
        "    '''\n",
        "    Y = Prediction(X,w)   \n",
        "    # Predicting the value of a label from the input features by calling prediction function \n",
        "\n",
        "    SquaredDiff = np.square(Y - t)    \n",
        "    # Squaring each of the difference in the vector\n",
        "\n",
        "    SquaredDiff = np.sum(SquaredDiff) / len(X)    \n",
        "    # Taking the sum of all the squares and dividing it with the number of rows (equivalent to the number of model inputs)\n",
        "\n",
        "    return SquaredDiff\n",
        "    # YOUR CODE HERE\n",
        "    #raise NotImplementedError()"
      ]
    },
    {
      "cell_type": "code",
      "execution_count": null,
      "metadata": {
        "deletable": false,
        "editable": false,
        "nbgrader": {
          "cell_type": "code",
          "checksum": "923a1372a401b41d6ef6b0749a49ff66",
          "grade": true,
          "grade_id": "MSE_Loss_Test",
          "locked": true,
          "points": 2,
          "schema_version": 3,
          "solution": false,
          "task": false
        },
        "id": "beahjBNooky-"
      },
      "outputs": [],
      "source": [
        "'''\n",
        "TEST CASES, DO NOT CHANGE\n",
        "'''\n",
        "''' case 1 '''\n",
        "X=np.array([[3,6,5],[4.5,6.6,6]])\n",
        "t=np.array([4,5.5])\n",
        "w=np.array([2,-1,0.5,1])\n",
        "np.testing.assert_almost_equal(MSE_Loss(X,t,w),0.53,decimal=3)\n"
      ]
    },
    {
      "cell_type": "code",
      "execution_count": null,
      "metadata": {
        "deletable": false,
        "nbgrader": {
          "cell_type": "code",
          "checksum": "a6bc90c02aba76b8ca4072b0b5655560",
          "grade": false,
          "grade_id": "MAE_Loss",
          "locked": false,
          "schema_version": 3,
          "solution": true,
          "task": false
        },
        "id": "d6Pbd2AToky_"
      },
      "outputs": [],
      "source": [
        "def MAE_Loss (X, t, w, lamda = 0): # Output should be a single number\n",
        "    \n",
        "    Y = Prediction(X,w)             \n",
        "    #call the prediction function to obtain the predicted value\n",
        "\n",
        "    Diff = np.array(abs(Y - t))     \n",
        "    # Absolute error is the modulus of predicted value - orginal value\n",
        "\n",
        "    Abb_Diff = sum(Diff)/len(X)     \n",
        "    # Mean absolute error will be sum of the the error divide by total number of elements  \n",
        "    \n",
        "    return Abb_Diff                 \n",
        "    #Return value\n",
        "    #raise NotImplementedError()"
      ]
    },
    {
      "cell_type": "code",
      "execution_count": null,
      "metadata": {
        "deletable": false,
        "editable": false,
        "nbgrader": {
          "cell_type": "code",
          "checksum": "f11d5fde7220893a9809f2954d18c5e5",
          "grade": true,
          "grade_id": "MAE_Loss_Test",
          "locked": true,
          "points": 2,
          "schema_version": 3,
          "solution": false,
          "task": false
        },
        "id": "3IRXwTLwoky_"
      },
      "outputs": [],
      "source": [
        "'''\n",
        "TEST CASES, DO NOT CHANGE\n",
        "'''\n",
        "''' case 1 '''\n",
        "X=np.array([[3,6,5],[4.5,6.6,6]])\n",
        "t=np.array([4,5.5])\n",
        "w=np.array([2,-1,0.5,1])\n",
        "np.testing.assert_almost_equal(MAE_Loss(X,t,w),0.700,decimal=3)\n"
      ]
    },
    {
      "cell_type": "code",
      "execution_count": null,
      "metadata": {
        "deletable": false,
        "nbgrader": {
          "cell_type": "code",
          "checksum": "8cbed9318984e9fb83254ad57d06436e",
          "grade": false,
          "grade_id": "L2_Loss",
          "locked": false,
          "schema_version": 3,
          "solution": true,
          "task": false
        },
        "id": "GJcMY6bPokzA"
      },
      "outputs": [],
      "source": [
        "def L2_Loss (X, t, w, lamda= 0):\n",
        "   # Output should be a single number\n",
        "    ''' Need to specify what inputs are'''\n",
        "    \n",
        "    Mean_square_error = MSE_Loss(X, t, w)  \n",
        "    #Calling the Mean square error function\n",
        "\n",
        "    square_weights = np.square(w)          \n",
        "     #sqaring the weights\n",
        "\n",
        "    sum_sqr_weights = (sum(square_weights[:-1])) ** 0.5  \n",
        "    #square root of the sum of the squares of the weights excluding w0\n",
        "\n",
        "    L2_loss = Mean_square_error + (lamda * sum_sqr_weights)   \n",
        "    # calculating final L2_loss according to L2 = MSE + (lamda * sum_sqr_weights)\n",
        "\n",
        "    return L2_loss            \n",
        "    #Returning the output   \n",
        "    #raise NotImplementedError"
      ]
    },
    {
      "cell_type": "code",
      "execution_count": null,
      "metadata": {
        "deletable": false,
        "editable": false,
        "nbgrader": {
          "cell_type": "code",
          "checksum": "a5a409056f6797cdf8cbfab61b138c37",
          "grade": true,
          "grade_id": "L2_Loss_Test",
          "locked": true,
          "points": 2,
          "schema_version": 3,
          "solution": false,
          "task": false
        },
        "id": "DQJBvFVnokzA"
      },
      "outputs": [],
      "source": [
        "'''\n",
        "TEST CASES, DO NOT CHANGE\n",
        "'''\n",
        "''' case 1 '''\n",
        "X=np.array([[3,6,5],[4.5,6.6,6]])\n",
        "t=np.array([4,5.5])\n",
        "w=np.array([2,-1,0.5,1])\n",
        "np.testing.assert_almost_equal(L2_Loss(X,t,w,0.5),1.675,decimal=3)\n"
      ]
    },
    {
      "cell_type": "code",
      "execution_count": null,
      "metadata": {
        "deletable": false,
        "nbgrader": {
          "cell_type": "code",
          "checksum": "bb055d3436a79fb3acb7535956f57466",
          "grade": false,
          "grade_id": "L1_Loss",
          "locked": false,
          "schema_version": 3,
          "solution": true,
          "task": false
        },
        "id": "1YwydMcAokzA"
      },
      "outputs": [],
      "source": [
        "def L1_Loss (X, t, w, lamda): # Output should be a single number\n",
        "    \n",
        "    Mean_square_error = MSE_Loss(X, t, w, lamda = 0)  \n",
        "    #calling the MSE loss function\n",
        "\n",
        "    sum_weights = np.sum(abs(w)[:-1])   \n",
        "    #finding the sum of the modulus values of weights excluding w0\n",
        "\n",
        "    L1_loss = Mean_square_error + (lamda * sum_weights) \n",
        "    #finding L1 according to MSE + (lamda * sum_weights)\n",
        "\n",
        "    return L1_loss    \n",
        "    #returning L1 loss value\n",
        "    # raise NotImplementedError()"
      ]
    },
    {
      "cell_type": "code",
      "execution_count": null,
      "metadata": {
        "deletable": false,
        "editable": false,
        "nbgrader": {
          "cell_type": "code",
          "checksum": "40224dd69dd8e6499a67271c33701bf4",
          "grade": true,
          "grade_id": "L1_Loss_Test",
          "locked": true,
          "points": 2,
          "schema_version": 3,
          "solution": false,
          "task": false
        },
        "id": "IYLTEnR5okzB"
      },
      "outputs": [],
      "source": [
        "'''\n",
        "TEST CASES, DO NOT CHANGE\n",
        "'''\n",
        "''' case 1 '''\n",
        "X=np.array([[3,6,5],[4.5,6.6,6]])\n",
        "t=np.array([4,5.5])\n",
        "w=np.array([2,-1,0.5,1])\n",
        "np.testing.assert_almost_equal(L1_Loss(X,t,w,0.5),2.280,decimal=3)\n"
      ]
    },
    {
      "cell_type": "markdown",
      "source": [
        ""
      ],
      "metadata": {
        "id": "JPgVVmbj-CQd"
      }
    },
    {
      "cell_type": "code",
      "execution_count": null,
      "metadata": {
        "deletable": false,
        "nbgrader": {
          "cell_type": "code",
          "checksum": "b6143269d14fa4e9b9a54a90f229620c",
          "grade": false,
          "grade_id": "NRMSE_Loss",
          "locked": false,
          "schema_version": 3,
          "solution": true,
          "task": false
        },
        "id": "GgsKvizNokzB"
      },
      "outputs": [],
      "source": [
        "def NRMSE_Metric (X, t, w): # Output should be a single number\n",
        "    # YOUR CODE HERE\n",
        "\n",
        "    mean_square_value = MSE_Loss (X, t, w) \n",
        "    #Calling the mean quare value function\n",
        "\n",
        "    RMSE = np.sqrt(mean_square_value)      \n",
        "    #Calculating the Normalised root means square value by divide with std of actual t\n",
        "\n",
        "    NRMSE = RMSE/ t.std()                  \n",
        "    #calculating NRMSE using the equation RMSE/ standard deviation\n",
        "\n",
        "    return NRMSE\n",
        "    #raise NotImplementedError()"
      ]
    },
    {
      "cell_type": "code",
      "execution_count": null,
      "metadata": {
        "deletable": false,
        "editable": false,
        "nbgrader": {
          "cell_type": "code",
          "checksum": "06456562aa2ed36b11c7d40c52610133",
          "grade": true,
          "grade_id": "NRMSE_Loss_Test",
          "locked": true,
          "points": 2,
          "schema_version": 3,
          "solution": false,
          "task": false
        },
        "id": "A15tcCFqokzB"
      },
      "outputs": [],
      "source": [
        "'''\n",
        "TEST CASES, DO NOT CHANGE\n",
        "'''\n",
        "''' Test case 1 '''\n",
        "X=np.array([[3,6,5],[4.5,6.6,6]])\n",
        "t=np.array([4,5.5])\n",
        "w=np.array([2,-1,0.5,1])\n",
        "np.testing.assert_almost_equal(NRMSE_Metric(X,t,w),0.970,decimal=3)\n"
      ]
    },
    {
      "cell_type": "markdown",
      "metadata": {
        "deletable": false,
        "editable": false,
        "nbgrader": {
          "cell_type": "markdown",
          "checksum": "32344ab855de7c731a225d416924e47d",
          "grade": false,
          "grade_id": "Gradient_Title",
          "locked": true,
          "schema_version": 3,
          "solution": false,
          "task": false
        },
        "id": "zAJLKJNNokzC"
      },
      "source": [
        "## Gradient function\n",
        "Each Loss function will have its own gradient function:\n",
        "\n",
        "1. MSE gradient is only for the error\n",
        "2. MAE gradient is only for the error\n",
        "3. L2 gradient is for MSE and L2 regularization, and can call MSE gradient\n",
        "4. L1 gradient is for MSE and L1 regularization, and can call MSE gradient"
      ]
    },
    {
      "cell_type": "code",
      "execution_count": null,
      "metadata": {
        "deletable": false,
        "nbgrader": {
          "cell_type": "code",
          "checksum": "c1c5a97c25a41dac499e5c245f9166b7",
          "grade": false,
          "grade_id": "MSE_Gradient",
          "locked": false,
          "schema_version": 3,
          "solution": true,
          "task": false
        },
        "id": "BZpqHWhBokzC"
      },
      "outputs": [],
      "source": [
        "def MSE_Gradient (X, t, w, lamda=0):\n",
        "    \n",
        "    Y_predicted = Prediction (X, w)        \n",
        "    #predicting the y using the prediction function\n",
        "\n",
        "    arr_of_ones = np.ones([len(X),1])       \n",
        "    #creating the matrix of ones in shape of (length of rows in X * 1)\n",
        "\n",
        "    getX = np.concatenate((X, arr_of_ones), axis = 1)     \n",
        "    #concatenating the array in the given data of X for the X term in gradient equation\n",
        "\n",
        "    gradient = (getX.T.dot(Y_predicted - t)) *2 /len(X)     \n",
        "    #finding the gradient using X.(y-t)*2/number of rows in the data\n",
        "\n",
        "    return gradient     \n",
        "    #Return gradient function    \n",
        "    #raise NotImplementedError()\n",
        "    "
      ]
    },
    {
      "cell_type": "code",
      "execution_count": null,
      "metadata": {
        "deletable": false,
        "editable": false,
        "nbgrader": {
          "cell_type": "code",
          "checksum": "d61466927592a8776a8bfa688472bad4",
          "grade": true,
          "grade_id": "MSE_Gradient_Test",
          "locked": true,
          "points": 3,
          "schema_version": 3,
          "solution": false,
          "task": false
        },
        "id": "eLjolBskokzC"
      },
      "outputs": [],
      "source": [
        "'''\n",
        "TEST CASES, DO NOT CHANGE\n",
        "'''\n",
        "''' case 1 '''\n",
        "X=np.array([[3,6,5],[4.5,6.6,6]])\n",
        "t=np.array([4,5.5])\n",
        "w=np.array([2,-1,0.5,1])\n",
        "np.testing.assert_array_almost_equal(MSE_Gradient(X,t,w),np.array([2.55, 2.94, 2.9 , 0.4 ]),decimal=3)\n"
      ]
    },
    {
      "cell_type": "code",
      "execution_count": null,
      "metadata": {
        "deletable": false,
        "nbgrader": {
          "cell_type": "code",
          "checksum": "3d7fb24daaa75279588b80e4a10cc8c6",
          "grade": false,
          "grade_id": "MAE_Gradient",
          "locked": false,
          "schema_version": 3,
          "solution": true,
          "task": false
        },
        "id": "YFF1-wxfokzD"
      },
      "outputs": [],
      "source": [
        "def MAE_Gradient (X, t, w, lamda=0): # Output should have the same size as w\n",
        "    \n",
        "    Y_predicted = Prediction (X, w)         \n",
        "    #predicting the y using the weight vector\n",
        "\n",
        "    arr_of_ones = np.ones([len(X),1])       \n",
        "    #creating the matrix of ones in shape of (length of rows in X * 1)\n",
        "\n",
        "    getX = np.concatenate((X, arr_of_ones), axis = 1)  \n",
        "    #concatenating the array in the given data of X for the X term in gradient equation\n",
        "\n",
        "    MAE_grad = getX.T.dot(np.sign(Y_predicted - t)) / len(X)  \n",
        "    #predicting the MAE gradient using the equation MAE_grad = \n",
        "\n",
        "    return MAE_grad         \n",
        "    #reurn the MAE_gradient value\n",
        "    ##raise NotImplementedError()"
      ]
    },
    {
      "cell_type": "code",
      "execution_count": null,
      "metadata": {
        "deletable": false,
        "editable": false,
        "nbgrader": {
          "cell_type": "code",
          "checksum": "e1d418bf5351112ae8716877f8bb6359",
          "grade": true,
          "grade_id": "MAE_Gradient_Test",
          "locked": true,
          "points": 3,
          "schema_version": 3,
          "solution": false,
          "task": false
        },
        "id": "1bBoPfiMokzD"
      },
      "outputs": [],
      "source": [
        "'''\n",
        "TEST CASES, DO NOT CHANGE\n",
        "'''\n",
        "''' case 1 '''\n",
        "X=np.array([[3,6,5],[4.5,6.6,6]])\n",
        "t=np.array([4,5.5])\n",
        "w=np.array([2,-1,0.5,1])\n",
        "np.testing.assert_array_almost_equal(MAE_Gradient(X,t,w),np.array([0.75,  0.3 ,  0.5 , 0.]),decimal=3)\n"
      ]
    },
    {
      "cell_type": "code",
      "execution_count": null,
      "metadata": {
        "deletable": false,
        "nbgrader": {
          "cell_type": "code",
          "checksum": "bee96dccc2e2096ed187b41cb4e81f4e",
          "grade": false,
          "grade_id": "L2_Gradient",
          "locked": false,
          "schema_version": 3,
          "solution": true,
          "task": false
        },
        "id": "qmlR91dzokzD"
      },
      "outputs": [],
      "source": [
        "def L2_Gradient (X, t, w, lamda): # Output should have the same size as w\n",
        "    w0 = np.copy(w)    \n",
        "    w0[-1] = 0\n",
        "    #copying the weights to assign w0 = 0 in a separate array\n",
        "\n",
        "    square_weights = np.square(w)\n",
        "    sum_sqr_weights = (sum(square_weights[:-1])) ** 0.5\n",
        "    #finding square root of the sum of the squares of the weights except w0\n",
        "\n",
        "    gradient = MSE_Gradient(X,t,w) + (lamda/sum_sqr_weights)*w0\n",
        "    #calculating the gradient using the formula L2_gradient = MSE_Gradient + sqrt(lamda/sum_sqr_weights)*weights except w0\n",
        "\n",
        "    return gradient\n",
        "    #return gradient\n",
        "    #raise NotImplementedError()"
      ]
    },
    {
      "cell_type": "code",
      "execution_count": null,
      "metadata": {
        "deletable": false,
        "editable": false,
        "nbgrader": {
          "cell_type": "code",
          "checksum": "f292b42c3389b24e369234a7210b87bb",
          "grade": true,
          "grade_id": "L2_Gradient_Test",
          "locked": true,
          "points": 3,
          "schema_version": 3,
          "solution": false,
          "task": false
        },
        "id": "6lxwah-zokzD"
      },
      "outputs": [],
      "source": [
        "'''\n",
        "TEST CASES, DO NOT CHANGE\n",
        "'''\n",
        "''' case 1 '''\n",
        "X=np.array([[3,6,5],[4.5,6.6,6]])\n",
        "t=np.array([4,5.5])\n",
        "w=np.array([2,-1,0.5,1])\n",
        "np.testing.assert_array_almost_equal(L2_Gradient(X,t,w,0.5),np.array([2.986, 2.721, 3.009 , 0.4 ]),decimal=3)\n"
      ]
    },
    {
      "cell_type": "code",
      "execution_count": null,
      "metadata": {
        "deletable": false,
        "nbgrader": {
          "cell_type": "code",
          "checksum": "5bff06a852c13effc51014992ffce310",
          "grade": false,
          "grade_id": "L1_Gradient",
          "locked": false,
          "schema_version": 3,
          "solution": true,
          "task": false
        },
        "id": "a6P-GUZ0okzE"
      },
      "outputs": [],
      "source": [
        "def L1_Gradient (X, t, w, lamda): # Output should have the same size as w\n",
        "    \n",
        "    w0 = np.copy(w)\n",
        "    w0[-1] = 0\n",
        "    #copying the weights to assign w0 = 0 in a separate array\n",
        "\n",
        "    gradient_1 = MSE_Gradient(X,t,w) + (lamda * np.sign(w0))\n",
        "    #calculating the gradient using the formula L2_gradient = MSE_Gradient + (lamda)*(signum of weights without w0)\n",
        "    \n",
        "    return gradient_1\n",
        "    #return gradient values\n",
        "\n",
        "    #raise NotImplementedError()"
      ]
    },
    {
      "cell_type": "code",
      "execution_count": null,
      "metadata": {
        "deletable": false,
        "editable": false,
        "nbgrader": {
          "cell_type": "code",
          "checksum": "9097b61320e470f429a9f46c7da0b219",
          "grade": true,
          "grade_id": "L1_Gradient_Test",
          "locked": true,
          "points": 3,
          "schema_version": 3,
          "solution": false,
          "task": false
        },
        "id": "dITScW5pokzE"
      },
      "outputs": [],
      "source": [
        "'''\n",
        "TEST CASES, DO NOT CHANGE\n",
        "'''\n",
        "''' case 1 '''\n",
        "X=np.array([[3,6,5],[4.5,6.6,6]])\n",
        "t=np.array([4,5.5])\n",
        "w=np.array([2,-1,0.5,1])\n",
        "np.testing.assert_array_almost_equal(L1_Gradient(X,t,w,0.5),np.array([3.05, 2.44, 3.4 , 0.4 ]),decimal=3)\n"
      ]
    },
    {
      "cell_type": "markdown",
      "metadata": {
        "deletable": false,
        "editable": false,
        "nbgrader": {
          "cell_type": "markdown",
          "checksum": "1980a2f831b5e1ddc9b510c22ef502c7",
          "grade": false,
          "grade_id": "Gradient_Desc_Title",
          "locked": true,
          "schema_version": 3,
          "solution": false,
          "task": false
        },
        "id": "4ZsJWrKWokzE"
      },
      "source": [
        "## Gradient Descent Function\n"
      ]
    },
    {
      "cell_type": "code",
      "execution_count": null,
      "metadata": {
        "deletable": false,
        "nbgrader": {
          "cell_type": "code",
          "checksum": "bba475ce42b2b792bf6e62dd34a82a98",
          "grade": false,
          "grade_id": "Gradient_Descent",
          "locked": false,
          "schema_version": 3,
          "solution": true,
          "task": false
        },
        "id": "fnlmpgxaokzF"
      },
      "outputs": [],
      "source": [
        "def Gradient_Descent (X, X_val, t, t_val, w, lamda, max_iter, epsilon, lr, lossfunc, gradfunc): # See output format in 'return' statement\n",
        "    \n",
        "    L2Lossi = L2_Loss(X, t, w, lamda)\n",
        "    #calling the L2 loss function\n",
        "\n",
        "    for i in range(max_iter):\n",
        "      w = w - lr* L2_Gradient(X, t, w, lamda)                #New value of w after one iteration\n",
        "      L2Lossf = L2_Loss(X, t, w, lamda)                      #finding the loss function for the new weights\n",
        "      if((L2Lossi - L2Lossf) < epsilon):\n",
        "        break\n",
        "        #if the difference between two loss values become less than the epsilon value, loop breaks \n",
        "    \n",
        "    w_final = w\n",
        "    #Assigning the final weights\n",
        "\n",
        "    train_loss_final = MSE_Loss(X, t, w)\n",
        "    #Assigning final loss value\n",
        "\n",
        "    validation_loss_final = MSE_Loss(X_val, t_val, w)\n",
        "    #Assigning the loss value for validation data \n",
        "\n",
        "    validation_NRMSE = NRMSE_Metric(X_val, t_val, w)\n",
        "    #Assigning the NRMSE for validation data \n",
        "\n",
        "    return w_final, train_loss_final, validation_loss_final, validation_NRMSE \n",
        "    #Returning w_final, train_loss_final, validation_loss_final, validation_NRMS"
      ]
    },
    {
      "cell_type": "code",
      "execution_count": null,
      "metadata": {
        "deletable": false,
        "editable": false,
        "nbgrader": {
          "cell_type": "code",
          "checksum": "d10bf1b8996cb4e5d731533ab882eaa2",
          "grade": true,
          "grade_id": "Gradient_Check",
          "locked": true,
          "points": 20,
          "schema_version": 3,
          "solution": false,
          "task": false
        },
        "id": "Gp-kC7iBokzF"
      },
      "outputs": [],
      "source": [
        "'''\n",
        "TEST CASES, DO NOT CHANGE\n",
        "'''\n",
        "np.random.seed(2)\n",
        "\n",
        "X=np.array([[23,24],[1,2]])\n",
        "t=np.array([4,5])\n",
        "X_val=np.array([[3,4],[5,6]])\n",
        "t_val=np.array([3,4])\n",
        "w=np.array([3,2,1])\n",
        "results =Gradient_Descent (X, X_val, t, t_val, w, 0.1, 100, 1e-10, 1e-5, L2_Loss,L2_Gradient) \n",
        "np.testing.assert_allclose([results[1]],[697.919],rtol =0.05)\n",
        "np.testing.assert_allclose([results[2]],[20],atol=5) # we expect around 17.5  but some students got 24 which we will also accept\n",
        "#Instructor Values of results[1] and results [2] are 697.919 and 17.512 respectively"
      ]
    },
    {
      "cell_type": "markdown",
      "metadata": {
        "deletable": false,
        "editable": false,
        "nbgrader": {
          "cell_type": "markdown",
          "checksum": "454ff10ef4f228e28cf5dc32b02a46b0",
          "grade": false,
          "grade_id": "PseudoInvTitle",
          "locked": true,
          "schema_version": 3,
          "solution": false,
          "task": false
        },
        "id": "M75l_wFCokzF"
      },
      "source": [
        "## Pseudo Inverse Method\n",
        "\n",
        "You have to implement a slightly more advanced version, with L2 penalty:\n",
        "\n",
        "w = (X' X + lambda I)^(-1) X' t.\n",
        "\n",
        "See, for example: Section 2 of https://web.mit.edu/zoya/www/linearRegression.pdf"
      ]
    },
    {
      "cell_type": "code",
      "execution_count": null,
      "metadata": {
        "deletable": false,
        "nbgrader": {
          "cell_type": "code",
          "checksum": "cb4fed33ae855881d92f2d0bee916fd7",
          "grade": false,
          "grade_id": "PseudoInv",
          "locked": false,
          "schema_version": 3,
          "solution": true,
          "task": false
        },
        "id": "7ZAU-Td1okzF"
      },
      "outputs": [],
      "source": [
        "def Pseudo_Inverse (X, t, lamda): # Output should be weight vector\n",
        "   \n",
        "    arr_ones = np.ones([len(X),1])       \n",
        "    #creating  array of ones with number of rows equal to number of total samples in a variable\n",
        "\n",
        "    get_X = np.concatenate((X,arr_ones),axis = 1)   \n",
        "    #concatenating ones vector \n",
        "\n",
        "    regular = lamda *np.eye(len(get_X.T))\n",
        "    regular[len(get_X.T)-1][len(get_X.T)-1] = 0  \n",
        "    # Reularisation function (lamda * I matrix and assigning last value of lamda*I = 0 to eliminate the bias term in regularization\n",
        "\n",
        "    X_inverse = np.linalg.inv(np.matmul(get_X.T,get_X) + lamda *np.eye(len(get_X.T)))  \n",
        "    #first term of the pseudo inverse method = inverse of (X'.X + lamda * i) \n",
        "    \n",
        "    w = X_inverse.dot(get_X.T).dot(t)     \n",
        "    #predicting the w values using psedo inverse equation #w = (X' X + lambda I)^(-1) X' t\n",
        "\n",
        "    return w\n",
        "    #returning_weights\n",
        "    #raise NotImplementedError()"
      ]
    },
    {
      "cell_type": "code",
      "execution_count": null,
      "metadata": {
        "deletable": false,
        "editable": false,
        "nbgrader": {
          "cell_type": "code",
          "checksum": "a5178b8280650ed5d1d55dc6bbb38a29",
          "grade": true,
          "grade_id": "PseudoInvTest",
          "locked": true,
          "points": 10,
          "schema_version": 3,
          "solution": false,
          "task": false
        },
        "id": "50jkxZybokzF"
      },
      "outputs": [],
      "source": [
        "'''\n",
        "TEST CASES, DO NOT CHANGE\n",
        "'''\n",
        "''' case 1 - other data'''\n",
        "X=np.array([[3,6,5],[4.5,6.6,6]])\n",
        "t=np.array([4,5.5])\n",
        "np.testing.assert_array_almost_equal(Pseudo_Inverse(X,t,0.5),np.array([ 0.491,  0.183,  0.319, -0.002]),decimal=3)"
      ]
    },
    {
      "cell_type": "markdown",
      "source": [
        "## Importing and preparing data"
      ],
      "metadata": {
        "id": "feaE2YBSNQIk"
      }
    },
    {
      "cell_type": "code",
      "source": [
        "df = pd.read_csv(\"TempTrain.csv\")\n",
        "#importing data"
      ],
      "metadata": {
        "id": "khaGvAZHNPSg"
      },
      "execution_count": null,
      "outputs": []
    },
    {
      "cell_type": "code",
      "source": [
        "df = df.sample(frac = 1)\n",
        "#shuffling the data before dividing into training and validation set"
      ],
      "metadata": {
        "id": "BaN6HlQE8SxT"
      },
      "execution_count": null,
      "outputs": []
    },
    {
      "cell_type": "code",
      "source": [
        "div = int(len(df)*0.8) \n",
        "#Determining the point of split according to 80:20 (train : validation) distribution"
      ],
      "metadata": {
        "id": "eK0OCOQMNPLO"
      },
      "execution_count": null,
      "outputs": []
    },
    {
      "cell_type": "code",
      "source": [
        "df_train = df.iloc[:div]\n",
        "#Allocating the first 80% of the data to the training subset\n",
        "\n",
        "df_val = df.iloc[div:]\n",
        "#Allocating the last 20% of the data to the validation subset"
      ],
      "metadata": {
        "id": "e1m1qBLXNPIR"
      },
      "execution_count": null,
      "outputs": []
    },
    {
      "cell_type": "code",
      "source": [
        "df_normal_train = Normalize(df_train) \n",
        "#Normalising the training data using Normalize function\n",
        "\n",
        "df_normal_val = Normalize(df_val)\n",
        "#Normalising the validation data using Normalize function"
      ],
      "metadata": {
        "id": "DYKTOAyqNPGR"
      },
      "execution_count": null,
      "outputs": []
    },
    {
      "cell_type": "code",
      "source": [
        "X_train = df_normal_train.drop(['Next_Tmax'],axis=1).values\n",
        "#Storing the independent variables as X_train for the training data\n",
        "\n",
        "X_valid = df_normal_val.drop(['Next_Tmax'],axis=1).values\n",
        "#Storing the independent variables as X_val for the validation data\n",
        "\n",
        "Y_train = df_normal_train['Next_Tmax'].values\n",
        "#Storing the dependent variables as Y_train for the training data\n",
        "\n",
        "Y_valid = df_normal_val['Next_Tmax'].values\n",
        "#Storing the dependent variables as Y_val for the validation data"
      ],
      "metadata": {
        "id": "ppHG7n-ZNPDf"
      },
      "execution_count": null,
      "outputs": []
    },
    {
      "cell_type": "markdown",
      "source": [
        "## Generating the model using the MSE+lamda*L2(w) loss function"
      ],
      "metadata": {
        "id": "NRyp75SQPdWr"
      }
    },
    {
      "cell_type": "code",
      "source": [
        "lamdai = 0.001\n",
        "lamdaf = 100000\n",
        "#Assigning the initial and final values of lamda\n",
        "\n",
        "complexity1 = np.array([])\n",
        "RMSE_values_valid1 = np.array([])\n",
        "RMSE_values_train1 = np.array([])\n",
        "#creating the null arrays for storing the values of complexity, RMSE values of train and validation data\n",
        "\n",
        "w1 = np.random.randn(len(X_train[0])+1)\n",
        "#Creating a random weight vector\n",
        "\n",
        "while lamdai <= lamdaf:\n",
        "  complexity1 = np.append(complexity1, [1/lamdai])\n",
        "  #Appending the complexity values to the complexity array\n",
        "  \n",
        "  results1 = Gradient_Descent(X_train, X_valid, Y_train, Y_valid, w1, lamdai, 300, 1e-10, 5e-2, L2_Loss,L2_Gradient)\n",
        "  #Calling the gradient descent function to find the weight vector\n",
        "\n",
        "  RMSE_valid1 = np.sqrt(results1[2])\n",
        "  RMSE_train1 = np.sqrt(results1[1])\n",
        "  #Storing the RMSE values for both training and validation data \n",
        "\n",
        "  RMSE_values_valid1 = np.append(RMSE_values_valid1, [RMSE_valid1], axis = 0)\n",
        "  RMSE_values_train1 = np.append(RMSE_values_train1, [RMSE_train1], axis = 0)\n",
        "  #Appending The RMSE values in respective arrays\n",
        "\n",
        "  lamdai = 10*lamdai\n",
        "  #Reasigning a higher lamda value by multiplying with 10"
      ],
      "metadata": {
        "id": "jNdHvrQ_YW9J"
      },
      "execution_count": null,
      "outputs": []
    },
    {
      "cell_type": "code",
      "source": [
        "x =np.log10(complexity1)\n",
        "#storing the log of complexity for the plot\n",
        "\n",
        "y_train1 = RMSE_values_train1\n",
        "y_valid1 = RMSE_values_valid1\n",
        "#assigning the Respective RMSE of training and validation data to an array for plotting \n",
        "\n",
        "plt.scatter(x, y_train1)\n",
        "plt.scatter(x, y_valid1)\n",
        "#making a scatter plot\n",
        "\n",
        "plt.grid()\n",
        "#adding gridlines\n",
        "\n",
        "plt.plot(x, y_train1, label= \"Training loss\")\n",
        "plt.plot(x, y_valid1, label = \"Validation loss\")\n",
        "#adding a line plot passing through the points\n",
        "\n",
        "plt.legend()\n",
        "#adding the legends\n",
        "\n",
        "plt.show()\n",
        "#displaying the final plot"
      ],
      "metadata": {
        "colab": {
          "base_uri": "https://localhost:8080/",
          "height": 265
        },
        "id": "LKJHgFg3Xesp",
        "outputId": "f3496b0b-9f8e-4a9d-f519-cdefb70ddbae"
      },
      "execution_count": null,
      "outputs": [
        {
          "output_type": "display_data",
          "data": {
            "image/png": "[encoded data removed]",
            "text/plain": [
              "<Figure size 432x288 with 1 Axes>"
            ]
          },
          "metadata": {
            "needs_background": "light"
          }
        }
      ]
    },
    {
      "cell_type": "markdown",
      "source": [
        "Selecting the best lamda value for MSE+lamda*L2(w) loss function "
      ],
      "metadata": {
        "id": "oDSLVUFUr8WX"
      }
    },
    {
      "cell_type": "code",
      "source": [
        "iml1 = np.argmin(y_valid1)\n",
        "#storing the index of the minimum RMSE value\n",
        "\n",
        "minx1 = x[iml1]\n",
        "#finding the value of log(complexity) for the lowest RMSE\n",
        "\n",
        "antilog1 = 10 ** minx1\n",
        "#taking the antilog\n",
        "\n",
        "lamdamin1 = 1/antilog1\n",
        "#determing the value of lamda at lowest RMSE\n",
        "\n",
        "Minimum_RMSE_loss_L2 = RMSE_values_valid1[iml1]\n",
        "#storing the minimum RMSE loss for validation data\n",
        "\n",
        "final_weights_L2 = Gradient_Descent(X_train, X_valid, Y_train, Y_valid, w1, lamdamin1, 300, 1e-10, 5e-2, L1_Loss,L1_Gradient)[0]\n",
        "#storing the weights for the lowest lamda for further analysis\n",
        "\n",
        "print (\"The best lamda is equal to {} and the minimum RMSE loss found using L2 loss function model is equal to {}.\" .format(lamdamin1,Minimum_RMSE_loss_L2))\n"
      ],
      "metadata": {
        "colab": {
          "base_uri": "https://localhost:8080/"
        },
        "id": "f6CX2Fy8cery",
        "outputId": "e7b12c02-5f90-4e92-c2da-be091c96513d"
      },
      "execution_count": null,
      "outputs": [
        {
          "output_type": "stream",
          "name": "stdout",
          "text": [
            "The best lamda is equal to 0.001 and the minimum RMSE loss found using L2 loss function model is equal to 0.4463899361252809.\n"
          ]
        }
      ]
    },
    {
      "cell_type": "markdown",
      "source": [
        "## Generating the model using the MSE+lamda*L1(w) loss function"
      ],
      "metadata": {
        "id": "jQ0VcK1S0UYw"
      }
    },
    {
      "cell_type": "code",
      "source": [
        "lamdai = 0.001\n",
        "lamdaf = 100000\n",
        "#Assigning the initial and final values of lamda\n",
        "\n",
        "complexity2 = np.array([])\n",
        "RMSE_values_valid2 = np.array([])\n",
        "RMSE_values_train2 = np.array([])\n",
        "#creating the null arrays for storing the values of complexity, RMSE values of train and validation data\n",
        "\n",
        "w2 = np.random.randn(len(X_train[0])+1)\n",
        "#Creating a random weight vector\n",
        "\n",
        "while lamdai <= lamdaf:\n",
        "  complexity2 = np.append(complexity2, [1/lamdai])\n",
        "  #Appending the complexity values to the complexity array  \n",
        "\n",
        "  results2 = Gradient_Descent(X_train, X_valid, Y_train, Y_valid, w2, lamdai, 300, 1e-10, 5e-2, L1_Loss,L1_Gradient) #test(X_test, w)\n",
        "  #Calling the gradient descent function to find the weight vector\n",
        "\n",
        "  RMSE_valid2 = np.sqrt(results2[2])\n",
        "  RMSE_train2 = np.sqrt(results2[1])\n",
        "  #Storing the RMSE values for both training and validation data \n",
        "\n",
        "  RMSE_values_valid2 = np.append(RMSE_values_valid2, [RMSE_valid2], axis = 0)\n",
        "  RMSE_values_train2 = np.append(RMSE_values_train2, [RMSE_train2], axis = 0)\n",
        "  #Appending The RMSE values in respective arrays\n",
        "\n",
        "  lamdai = 10*lamdai\n",
        "  #Reasigning a higher lamda value by multiplying with 10"
      ],
      "metadata": {
        "id": "f9GYCezqPrf6"
      },
      "execution_count": null,
      "outputs": []
    },
    {
      "cell_type": "code",
      "source": [
        "while lamdai <= lamdaf:\n",
        "  complexity2 = np.append(complexity2, [1/lamdai])\n",
        "  results2 = Gradient_Descent(X_train, X_valid, Y_train, Y_valid, w2, lamdai, 300, 1e-10, 5e-2, L1_Loss,L1_Gradient) #test(X_test, w) \n",
        "  RMSE_valid2 = np.sqrt(results2[2])\n",
        "  RMSE_train2 = np.sqrt(results2[1])\n",
        "  RMSE_values_valid2 = np.append(RMSE_values_valid2, [RMSE_valid2], axis = 0)\n",
        "  RMSE_values_train2 = np.append(RMSE_values_train2, [RMSE_train2], axis = 0)\n",
        "  lamdai = 10*lamdai"
      ],
      "metadata": {
        "id": "fZNkcrgAPreL"
      },
      "execution_count": null,
      "outputs": []
    },
    {
      "cell_type": "code",
      "source": [
        "x =np.log10(complexity2)\n",
        "#storing the log of complexity for the plot \n",
        "\n",
        "y_train2 = RMSE_values_train2\n",
        "y_valid2 = RMSE_values_valid2\n",
        "#assigning the Respective RMSE of training and validation data to an array for plotting \n",
        "\n",
        "plt.scatter(x, y_train2)\n",
        "plt.scatter(x, y_valid2)\n",
        "#making a scatter plot\n",
        "\n",
        "plt.grid()\n",
        "#adding gridlines\n",
        "\n",
        "plt.plot(x, y_train2, label= \"Training loss\")\n",
        "plt.plot(x, y_valid2, label = \"Validation loss\")\n",
        "#adding a line plot passing through the points\n",
        "\n",
        "plt.legend()\n",
        "#adding the legends\n",
        "\n",
        "plt.show()\n",
        "#displaying the final plot"
      ],
      "metadata": {
        "colab": {
          "base_uri": "https://localhost:8080/",
          "height": 265
        },
        "id": "JqcvqHbQPrbD",
        "outputId": "0a64cbf3-dfe0-46f9-e248-49132356e837"
      },
      "execution_count": null,
      "outputs": [
        {
          "output_type": "display_data",
          "data": {
            "image/png": "[encoded data removed]",
            "text/plain": [
              "<Figure size 432x288 with 1 Axes>"
            ]
          },
          "metadata": {
            "needs_background": "light"
          }
        }
      ]
    },
    {
      "cell_type": "code",
      "source": [
        "iml2 = np.argmin(y_valid2)\n",
        "#storing the index of the minimum RMSE value\n",
        "\n",
        "minx2 = x[iml2]\n",
        "#finding the value of log(complexity) for the lowest RMSE\n",
        "\n",
        "antilog2 = 10 ** minx2\n",
        "#taking the antilog\n",
        "\n",
        "lamdamin2 = 1/antilog2\n",
        "#determing the value of lamda at lowest RMSE\n",
        "\n",
        "Minimum_RMSE_loss_L1 = RMSE_values_valid2[iml2]\n",
        "#storing the minimum RMSE loss for validation data\n",
        "\n",
        "final_weights_L1 = Gradient_Descent(X_train, X_valid, Y_train, Y_valid, w2, lamdamin2, 300, 1e-10, 5e-2, L1_Loss,L1_Gradient)[0]\n",
        "#storing the weights for the lowest lamda for further analysis\n",
        "\n",
        "print (\"The best lamda is equal to {} and the minimum RMSE loss found using L1 loss function model is equal to {}.\" .format(lamdamin2,Minimum_RMSE_loss_L1))\n"
      ],
      "metadata": {
        "id": "XLcBtJkaNO-T",
        "colab": {
          "base_uri": "https://localhost:8080/"
        },
        "outputId": "dd1059b7-d4af-40d3-bc1e-21feebe22989"
      },
      "execution_count": null,
      "outputs": [
        {
          "output_type": "stream",
          "name": "stdout",
          "text": [
            "The best lamda is equal to 0.01 and the minimum RMSE loss found using L1 loss function model is equal to 0.44734937413360504.\n"
          ]
        }
      ]
    },
    {
      "cell_type": "markdown",
      "source": [
        "##Generating the model using the Pseudo Inverse method\n",
        "\n",
        "> Indented block\n",
        "\n"
      ],
      "metadata": {
        "id": "mxxhCYO92Goo"
      }
    },
    {
      "cell_type": "code",
      "source": [
        "lamdai = 0.001\n",
        "lamdaf = 100000\n",
        "#Assigning the initial and final values of lamda\n",
        "\n",
        "complexity3 = np.array([])\n",
        "RMSE_values_valid3 = np.array([])\n",
        "RMSE_values_train3 = np.array([])\n",
        "#creating the null arrays for storing the values of complexity, RMSE values of train and validation data\n",
        "\n",
        "while lamdai <= lamdaf:\n",
        "  complexity3 = np.append(complexity3, [1/lamdai])\n",
        "  #Appending the complexity values to the complexity array \n",
        "\n",
        "  w3 = Pseudo_Inverse(X_train, Y_train, lamdai)\n",
        "  #Calling the pseudo inverse function to find the weight vector\n",
        "\n",
        "  RMSE_valid3 = np.sqrt(MSE_Loss(X_valid, Y_valid, w3))\n",
        "  RMSE_train3 = np.sqrt(MSE_Loss(X_train, Y_train, w3))\n",
        "  #Storing the RMSE values for both training and validation data \n",
        "\n",
        "  RMSE_values_valid3 = np.append(RMSE_values_valid3, [RMSE_valid3], axis = 0)\n",
        "  RMSE_values_train3 = np.append(RMSE_values_train3, [RMSE_train3], axis = 0)\n",
        "  #Appending The RMSE values in respective arrays\n",
        "\n",
        "  lamdai = 10*lamdai\n",
        "  #Reasigning a higher lamda value by multiplying with 10"
      ],
      "metadata": {
        "id": "IQ799UKp21Di"
      },
      "execution_count": null,
      "outputs": []
    },
    {
      "cell_type": "code",
      "source": [
        "x =np.log10(complexity3)\n",
        "#storing the log of complexity for the plot\n",
        "\n",
        "y_train3 = RMSE_values_train3\n",
        "y_valid3 = RMSE_values_valid3\n",
        "#assigning the Respective RMSE of training and validation data to an array for plotting \n",
        "\n",
        "plt.scatter(x, y_train3)\n",
        "plt.scatter(x, y_valid3)\n",
        "#making a scatter plot \n",
        "\n",
        "plt.grid()\n",
        "#adding gridlines\n",
        "\n",
        "plt.plot(x, y_train3, label= \"Training loss\")\n",
        "plt.plot(x, y_valid3, label = \"Validation loss\")\n",
        "#adding a line plot passing through the points\n",
        "\n",
        "plt.legend()\n",
        "#adding the legends\n",
        "\n",
        "plt.show()\n",
        "#displaying the final plot"
      ],
      "metadata": {
        "id": "qrF06FtN3BCH",
        "colab": {
          "base_uri": "https://localhost:8080/",
          "height": 265
        },
        "outputId": "3584b862-0b0f-4be2-e8f3-4911ad262dd2"
      },
      "execution_count": null,
      "outputs": [
        {
          "output_type": "display_data",
          "data": {
            "image/png": "[encoded data removed]",
            "text/plain": [
              "<Figure size 432x288 with 1 Axes>"
            ]
          },
          "metadata": {
            "needs_background": "light"
          }
        }
      ]
    },
    {
      "cell_type": "code",
      "source": [
        "iml3 = np.argmin(y_valid3)\n",
        "#storing the index of the minimum RMSE value\n",
        "\n",
        "minx3 = x[iml3]\n",
        "#finding the value of log(complexity) for the lowest RMSE\n",
        "\n",
        "antilog3 = 10 ** minx3\n",
        "#taking the antilog\n",
        "\n",
        "lamdamin3 = 1/antilog3\n",
        "#determing the value of lamda at lowest RMSE\n",
        "\n",
        "Minimum_RMSE_loss_pseudo = RMSE_values_valid3[iml3]\n",
        "#storing the minimum RMSE loss for validation data\n",
        "\n",
        "final_weight_pseudo = Pseudo_Inverse(X_train, Y_train, lamdamin3)\n",
        "#storing the weights for the lowest lamda for further analysis\n",
        "\n",
        "print (\"The best lamda is equal to {} and the minimum RMSE loss found using the Pseudo inverse method model is equal to {}.\" .format(lamdamin3,Minimum_RMSE_loss_pseudo))"
      ],
      "metadata": {
        "id": "_NevS33J3CkH",
        "colab": {
          "base_uri": "https://localhost:8080/"
        },
        "outputId": "536a3728-563a-4191-e496-38df5d89afd2"
      },
      "execution_count": null,
      "outputs": [
        {
          "output_type": "stream",
          "name": "stdout",
          "text": [
            "The best lamda is equal to 1.0 and the minimum RMSE loss found using the Pseudo inverse method model is equal to 0.44617263492168224.\n"
          ]
        }
      ]
    },
    {
      "cell_type": "markdown",
      "source": [
        "### Additional exercises"
      ],
      "metadata": {
        "id": "KrNuU6N4mJUn"
      }
    },
    {
      "cell_type": "code",
      "source": [
        "df_y_validation = df_val['Next_Tmax'].values\n",
        "#Assigning the Y data from the validation data set to a variable\n",
        "\n",
        "df_y_validation_mean = df_y_validation.mean()\n",
        "#finding the mean value of the Y from the validation data\n",
        "\n",
        "df_y_validation_std = df_y_validation.std()\n",
        "#finding the standard deviation of the Y from the validation data"
      ],
      "metadata": {
        "id": "qNUGl4Qrl8pl"
      },
      "execution_count": null,
      "outputs": []
    },
    {
      "cell_type": "code",
      "source": [
        "def Final_Prediction (X,weights):\n",
        "  X_valid = X\n",
        "  final_weights = weights\n",
        "\n",
        "  df_y_validation_prediction = Prediction(X_valid,final_weights)\n",
        "  #Predicting the normalised values of Y using the weights from the best model\n",
        "\n",
        "  final_validation_predicted_values = (df_y_validation_prediction * df_y_validation_std) + df_y_validation_mean\n",
        "  #Denormalising the predicted value using the equation  y = (y'*std(y)) + mean(y)\n",
        "\n",
        "  return final_validation_predicted_values"
      ],
      "metadata": {
        "id": "yM6MZQNUonhG"
      },
      "execution_count": null,
      "outputs": []
    },
    {
      "cell_type": "code",
      "source": [
        "def plot1(df_y_validation,final_validation_predicted_values):\n",
        "  x = df_y_validation\n",
        "  y_validation_prediction = final_validation_predicted_values\n",
        "  y_validation = df_y_validation\n",
        "  #Assigning the values of x,y validation and yprediction to be plotted \n",
        "\n",
        "  plt.scatter(x, y_validation_prediction, label = \"Y_prediction\")\n",
        "  plt.scatter(x, y_validation, label= \"Y_validation\")\n",
        "  plt.grid()\n",
        "  plt.legend()\n",
        "  plt.show()\n",
        "  #plotting using scatter and grid method"
      ],
      "metadata": {
        "id": "aWzhYBlqpK2P"
      },
      "execution_count": null,
      "outputs": []
    },
    {
      "cell_type": "code",
      "source": [
        "def plot2(df_y_validation,final_validation_predicted_values):\n",
        "\n",
        "  y_validation_prediction = final_validation_predicted_values\n",
        "  y_validation = df_y_validation\n",
        "\n",
        "  plt.plot(y_validation_prediction, label= \"Y_prediction\", linestyle = \"--\" )\n",
        "  plt.plot(y_validation, label = \"Y_validation\")\n",
        "  plt.legend()\n",
        "  plt.grid()\n",
        "  plt.show()\n",
        "  #plotting using line and grid method"
      ],
      "metadata": {
        "id": "lNGYPuSOuKvp"
      },
      "execution_count": null,
      "outputs": []
    },
    {
      "cell_type": "code",
      "source": [
        "def R2_value(df_y_validation,final_validation_predicted_values,df_y_validation_mean):\n",
        "  E1 = (df_y_validation - final_validation_predicted_values)**2\n",
        "  sum_E1 = sum(E1)\n",
        "  # Finding the E1 value by squaring the difference between prediction y and actual y and sum up\n",
        "\n",
        "  E2 = (df_y_validation - df_y_validation_mean)**2\n",
        "  sum_E2 = sum(E2)\n",
        "  # Finding the E2 value by squaring the difference between mean of actual y and actual y and sum up\n",
        "\n",
        "  R_square_value = 1 - (sum_E1/sum_E2)\n",
        "  # Calculating R^2 value by the equation R2= 1- SSres / SStot\n",
        "\n",
        "  print(\"Coefficient of determination is {}\".format(R_square_value))"
      ],
      "metadata": {
        "id": "t5TTmmeRuigg"
      },
      "execution_count": null,
      "outputs": []
    },
    {
      "cell_type": "markdown",
      "source": [
        "## Comparing the R2 values and the Y prediction vs Y actual graph using the three models"
      ],
      "metadata": {
        "id": "u5FHtPQMhHri"
      }
    },
    {
      "cell_type": "markdown",
      "source": [
        "## L2 Loss model"
      ],
      "metadata": {
        "id": "hd4oC0QfhHn6"
      }
    },
    {
      "cell_type": "code",
      "source": [
        "x1 = Final_Prediction (X_valid,final_weights_L2)\n",
        "plot1(df_y_validation,x1)\n",
        "plot2(df_y_validation,x1)\n",
        "R2_value(df_y_validation,x1,df_y_validation_mean)"
      ],
      "metadata": {
        "id": "hIVLCd60fN4P",
        "colab": {
          "base_uri": "https://localhost:8080/",
          "height": 539
        },
        "outputId": "cc129790-47c3-4087-f07c-ebb986a96f81"
      },
      "execution_count": null,
      "outputs": [
        {
          "output_type": "display_data",
          "data": {
            "image/png": "[encoded data removed]",
            "text/plain": [
              "<Figure size 432x288 with 1 Axes>"
            ]
          },
          "metadata": {
            "needs_background": "light"
          }
        },
        {
          "output_type": "display_data",
          "data": {
            "image/png": "[encoded data removed]",
            "text/plain": [
              "<Figure size 432x288 with 1 Axes>"
            ]
          },
          "metadata": {
            "needs_background": "light"
          }
        },
        {
          "output_type": "stream",
          "name": "stdout",
          "text": [
            "Coefficient of determination is 0.800736024926068\n"
          ]
        }
      ]
    },
    {
      "cell_type": "markdown",
      "source": [
        "## L1-Loss model"
      ],
      "metadata": {
        "id": "CY7j4eowhXCx"
      }
    },
    {
      "cell_type": "code",
      "source": [
        "x1 = Final_Prediction (X_valid,final_weights_L1)\n",
        "plot1(df_y_validation,x1)\n",
        "plot2(df_y_validation,x1)\n",
        "R2_value(df_y_validation,x1,df_y_validation_mean)"
      ],
      "metadata": {
        "id": "SFTSPnq7gf2H",
        "colab": {
          "base_uri": "https://localhost:8080/",
          "height": 539
        },
        "outputId": "b9f0263d-4cbb-4ead-f717-00896f1b95d1"
      },
      "execution_count": null,
      "outputs": [
        {
          "output_type": "display_data",
          "data": {
            "image/png": "[encoded data removed]",
            "text/plain": [
              "<Figure size 432x288 with 1 Axes>"
            ]
          },
          "metadata": {
            "needs_background": "light"
          }
        },
        {
          "output_type": "display_data",
          "data": {
            "image/png": "[encoded data removed]",
            "text/plain": [
              "<Figure size 432x288 with 1 Axes>"
            ]
          },
          "metadata": {
            "needs_background": "light"
          }
        },
        {
          "output_type": "stream",
          "name": "stdout",
          "text": [
            "Coefficient of determination is 0.7998785374622723\n"
          ]
        }
      ]
    },
    {
      "cell_type": "markdown",
      "source": [
        "## pseudo inverse model"
      ],
      "metadata": {
        "id": "icIrFOpkhbNX"
      }
    },
    {
      "cell_type": "code",
      "source": [
        "x1 = Final_Prediction (X_valid, final_weight_pseudo)\n",
        "plot1(df_y_validation,x1)\n",
        "plot2(df_y_validation,x1)\n",
        "R2_value(df_y_validation,x1,df_y_validation_mean)"
      ],
      "metadata": {
        "id": "MnJusjBYglPG",
        "colab": {
          "base_uri": "https://localhost:8080/",
          "height": 539
        },
        "outputId": "6e98fb6a-30d5-4360-8edb-35797f2fed06"
      },
      "execution_count": null,
      "outputs": [
        {
          "output_type": "display_data",
          "data": {
            "image/png": "[encoded data removed]",
            "text/plain": [
              "<Figure size 432x288 with 1 Axes>"
            ]
          },
          "metadata": {
            "needs_background": "light"
          }
        },
        {
          "output_type": "display_data",
          "data": {
            "image/png": "[encoded data removed]",
            "text/plain": [
              "<Figure size 432x288 with 1 Axes>"
            ]
          },
          "metadata": {
            "needs_background": "light"
          }
        },
        {
          "output_type": "stream",
          "name": "stdout",
          "text": [
            "Coefficient of determination is 0.8009299798470437\n"
          ]
        }
      ]
    },
    {
      "cell_type": "markdown",
      "source": [
        "## Observation and conclusion\n",
        "1. Upon analysing the results from various models, it appears that the data doesn't seem to overfit at any value of lamda, although there is a clear underfitting at the higher values.\n",
        "2. The complexity vs RMSE curve appears to flatten after certain values of lambda for all the models, therefore any lamda post curve flattening can serve as an ideal lamda value.\n",
        "3. The models seems to fit well with the validation dataset with low RMSE values for all the models.\n",
        "4. The lowest RMSE for every model is comparable. \n",
        "5. The L2 loss model, L1 loss model and Pseudo inverse method model show the lowest RMSEs of 0.4464, 0.4474, 0.4462 for lamda = 0.01, 0.1, 1 respectively.\n",
        "6. Moreover, the R2 value for all the models is also comparabel, 0.8007, 0.7999, 0.8010 respectively.\n",
        "7. In order to rationally choose the best model, for runing it for the test set, we chose the model which had the lowest RMSE at the best value of lamda (showing the lowest RMSE for that model).\n",
        "8. Therefore, we ran the test set on the pseudo inverse method model as it displayed the lowest RMSE out of all the three models.\n"
      ],
      "metadata": {
        "id": "Ea0VPjh65sfU"
      }
    },
    {
      "cell_type": "markdown",
      "source": [
        "## Running the best model on test data"
      ],
      "metadata": {
        "id": "OuIi-WCkmyu6"
      }
    },
    {
      "cell_type": "code",
      "source": [
        "df_test = pd.read_csv(\"TempTest.csv\")\n",
        "#importing the test data"
      ],
      "metadata": {
        "id": "gs5pFEdaB0Gj"
      },
      "execution_count": null,
      "outputs": []
    },
    {
      "cell_type": "code",
      "source": [
        "df_test.head()\n",
        "#visualising the data imported"
      ],
      "metadata": {
        "id": "ozcIfoqFhLNn",
        "colab": {
          "base_uri": "https://localhost:8080/",
          "height": 287
        },
        "outputId": "579e776d-56c0-44eb-a1f1-8e8d6678ec02"
      },
      "execution_count": null,
      "outputs": [
        {
          "output_type": "execute_result",
          "data": {
            "text/html": [
              "\n",
              "  <div id=\"df-99fe31e8-9564-49a9-b556-d8199eab1908\">\n",
              "    <div class=\"colab-df-container\">\n",
              "      <div>\n",
              "<style scoped>\n",
              "    .dataframe tbody tr th:only-of-type {\n",
              "        vertical-align: middle;\n",
              "    }\n",
              "\n",
              "    .dataframe tbody tr th {\n",
              "        vertical-align: top;\n",
              "    }\n",
              "\n",
              "    .dataframe thead th {\n",
              "        text-align: right;\n",
              "    }\n",
              "</style>\n",
              "<table border=\"1\" class=\"dataframe\">\n",
              "  <thead>\n",
              "    <tr style=\"text-align: right;\">\n",
              "      <th></th>\n",
              "      <th>Present_Tmax</th>\n",
              "      <th>Present_Tmin</th>\n",
              "      <th>LDAPS_RHmin</th>\n",
              "      <th>LDAPS_RHmax</th>\n",
              "      <th>LDAPS_Tmax_lapse</th>\n",
              "      <th>LDAPS_Tmin_lapse</th>\n",
              "      <th>LDAPS_WS</th>\n",
              "      <th>LDAPS_LH</th>\n",
              "      <th>LDAPS_CC1</th>\n",
              "      <th>LDAPS_CC2</th>\n",
              "      <th>LDAPS_CC3</th>\n",
              "      <th>LDAPS_CC4</th>\n",
              "      <th>LDAPS_PPT1</th>\n",
              "      <th>LDAPS_PPT2</th>\n",
              "      <th>LDAPS_PPT3</th>\n",
              "      <th>LDAPS_PPT4</th>\n",
              "      <th>lat</th>\n",
              "      <th>lon</th>\n",
              "      <th>DEM</th>\n",
              "      <th>Slope</th>\n",
              "      <th>Solar radiation</th>\n",
              "    </tr>\n",
              "  </thead>\n",
              "  <tbody>\n",
              "    <tr>\n",
              "      <th>0</th>\n",
              "      <td>27.9</td>\n",
              "      <td>19.9</td>\n",
              "      <td>58.964123</td>\n",
              "      <td>97.821373</td>\n",
              "      <td>26.798375</td>\n",
              "      <td>20.828714</td>\n",
              "      <td>6.397833</td>\n",
              "      <td>75.366664</td>\n",
              "      <td>0.197580</td>\n",
              "      <td>0.306510</td>\n",
              "      <td>0.423613</td>\n",
              "      <td>0.842868</td>\n",
              "      <td>0.0</td>\n",
              "      <td>0.0</td>\n",
              "      <td>0.0</td>\n",
              "      <td>0.025890</td>\n",
              "      <td>37.6046</td>\n",
              "      <td>126.991</td>\n",
              "      <td>212.3350</td>\n",
              "      <td>2.7850</td>\n",
              "      <td>5992.895996</td>\n",
              "    </tr>\n",
              "    <tr>\n",
              "      <th>1</th>\n",
              "      <td>30.3</td>\n",
              "      <td>21.0</td>\n",
              "      <td>51.617828</td>\n",
              "      <td>89.577393</td>\n",
              "      <td>29.069652</td>\n",
              "      <td>22.979956</td>\n",
              "      <td>6.199736</td>\n",
              "      <td>54.449329</td>\n",
              "      <td>0.193229</td>\n",
              "      <td>0.311707</td>\n",
              "      <td>0.431707</td>\n",
              "      <td>0.816846</td>\n",
              "      <td>0.0</td>\n",
              "      <td>0.0</td>\n",
              "      <td>0.0</td>\n",
              "      <td>0.031924</td>\n",
              "      <td>37.6046</td>\n",
              "      <td>127.032</td>\n",
              "      <td>44.7624</td>\n",
              "      <td>0.5141</td>\n",
              "      <td>5869.312500</td>\n",
              "    </tr>\n",
              "    <tr>\n",
              "      <th>2</th>\n",
              "      <td>30.2</td>\n",
              "      <td>22.5</td>\n",
              "      <td>47.538521</td>\n",
              "      <td>85.529457</td>\n",
              "      <td>29.696974</td>\n",
              "      <td>23.554281</td>\n",
              "      <td>6.269956</td>\n",
              "      <td>14.450297</td>\n",
              "      <td>0.200518</td>\n",
              "      <td>0.301901</td>\n",
              "      <td>0.410575</td>\n",
              "      <td>0.825653</td>\n",
              "      <td>0.0</td>\n",
              "      <td>0.0</td>\n",
              "      <td>0.0</td>\n",
              "      <td>0.011254</td>\n",
              "      <td>37.5776</td>\n",
              "      <td>127.058</td>\n",
              "      <td>33.3068</td>\n",
              "      <td>0.2661</td>\n",
              "      <td>5863.555664</td>\n",
              "    </tr>\n",
              "    <tr>\n",
              "      <th>3</th>\n",
              "      <td>30.7</td>\n",
              "      <td>22.0</td>\n",
              "      <td>59.407711</td>\n",
              "      <td>98.806969</td>\n",
              "      <td>28.234872</td>\n",
              "      <td>21.380987</td>\n",
              "      <td>6.755825</td>\n",
              "      <td>105.226457</td>\n",
              "      <td>0.186295</td>\n",
              "      <td>0.302106</td>\n",
              "      <td>0.397818</td>\n",
              "      <td>0.781959</td>\n",
              "      <td>0.0</td>\n",
              "      <td>0.0</td>\n",
              "      <td>0.0</td>\n",
              "      <td>0.041682</td>\n",
              "      <td>37.6450</td>\n",
              "      <td>127.022</td>\n",
              "      <td>45.7160</td>\n",
              "      <td>2.5348</td>\n",
              "      <td>5856.964844</td>\n",
              "    </tr>\n",
              "    <tr>\n",
              "      <th>4</th>\n",
              "      <td>31.0</td>\n",
              "      <td>21.8</td>\n",
              "      <td>55.004128</td>\n",
              "      <td>92.867073</td>\n",
              "      <td>27.988202</td>\n",
              "      <td>22.164184</td>\n",
              "      <td>6.241006</td>\n",
              "      <td>104.791246</td>\n",
              "      <td>0.173245</td>\n",
              "      <td>0.291852</td>\n",
              "      <td>0.447998</td>\n",
              "      <td>0.823050</td>\n",
              "      <td>0.0</td>\n",
              "      <td>0.0</td>\n",
              "      <td>0.0</td>\n",
              "      <td>0.014004</td>\n",
              "      <td>37.5507</td>\n",
              "      <td>127.135</td>\n",
              "      <td>35.0380</td>\n",
              "      <td>0.5055</td>\n",
              "      <td>5859.552246</td>\n",
              "    </tr>\n",
              "  </tbody>\n",
              "</table>\n",
              "</div>\n",
              "      <button class=\"colab-df-convert\" onclick=\"convertToInteractive('df-99fe31e8-9564-49a9-b556-d8199eab1908')\"\n",
              "              title=\"Convert this dataframe to an interactive table.\"\n",
              "              style=\"display:none;\">\n",
              "        \n",
              "  <svg xmlns=\"http://www.w3.org/2000/svg\" height=\"24px\"viewBox=\"0 0 24 24\"\n",
              "       width=\"24px\">\n",
              "    <path d=\"M0 0h24v24H0V0z\" fill=\"none\"/>\n",
              "    <path d=\"M18.56 5.44l.94 2.06.94-2.06 2.06-.94-2.06-.94-.94-2.06-.94 2.06-2.06.94zm-11 1L8.5 8.5l.94-2.06 2.06-.94-2.06-.94L8.5 2.5l-.94 2.06-2.06.94zm10 10l.94 2.06.94-2.06 2.06-.94-2.06-.94-.94-2.06-.94 2.06-2.06.94z\"/><path d=\"M17.41 7.96l-1.37-1.37c-.4-.4-.92-.59-1.43-.59-.52 0-1.04.2-1.43.59L10.3 9.45l-7.72 7.72c-.78.78-.78 2.05 0 2.83L4 21.41c.39.39.9.59 1.41.59.51 0 1.02-.2 1.41-.59l7.78-7.78 2.81-2.81c.8-.78.8-2.07 0-2.86zM5.41 20L4 18.59l7.72-7.72 1.47 1.35L5.41 20z\"/>\n",
              "  </svg>\n",
              "      </button>\n",
              "      \n",
              "  <style>\n",
              "    .colab-df-container {\n",
              "      display:flex;\n",
              "      flex-wrap:wrap;\n",
              "      gap: 12px;\n",
              "    }\n",
              "\n",
              "    .colab-df-convert {\n",
              "      background-color: #E8F0FE;\n",
              "      border: none;\n",
              "      border-radius: 50%;\n",
              "      cursor: pointer;\n",
              "      display: none;\n",
              "      fill: #1967D2;\n",
              "      height: 32px;\n",
              "      padding: 0 0 0 0;\n",
              "      width: 32px;\n",
              "    }\n",
              "\n",
              "    .colab-df-convert:hover {\n",
              "      background-color: #E2EBFA;\n",
              "      box-shadow: 0px 1px 2px rgba(60, 64, 67, 0.3), 0px 1px 3px 1px rgba(60, 64, 67, 0.15);\n",
              "      fill: #174EA6;\n",
              "    }\n",
              "\n",
              "    [theme=dark] .colab-df-convert {\n",
              "      background-color: #3B4455;\n",
              "      fill: #D2E3FC;\n",
              "    }\n",
              "\n",
              "    [theme=dark] .colab-df-convert:hover {\n",
              "      background-color: #434B5C;\n",
              "      box-shadow: 0px 1px 3px 1px rgba(0, 0, 0, 0.15);\n",
              "      filter: drop-shadow(0px 1px 2px rgba(0, 0, 0, 0.3));\n",
              "      fill: #FFFFFF;\n",
              "    }\n",
              "  </style>\n",
              "\n",
              "      <script>\n",
              "        const buttonEl =\n",
              "          document.querySelector('#df-99fe31e8-9564-49a9-b556-d8199eab1908 button.colab-df-convert');\n",
              "        buttonEl.style.display =\n",
              "          google.colab.kernel.accessAllowed ? 'block' : 'none';\n",
              "\n",
              "        async function convertToInteractive(key) {\n",
              "          const element = document.querySelector('#df-99fe31e8-9564-49a9-b556-d8199eab1908');\n",
              "          const dataTable =\n",
              "            await google.colab.kernel.invokeFunction('convertToInteractive',\n",
              "                                                     [key], {});\n",
              "          if (!dataTable) return;\n",
              "\n",
              "          const docLinkHtml = 'Like what you see? Visit the ' +\n",
              "            '<a target=\"_blank\" href=https://colab.research.google.com/notebooks/data_table.ipynb>data table notebook</a>'\n",
              "            + ' to learn more about interactive tables.';\n",
              "          element.innerHTML = '';\n",
              "          dataTable['output_type'] = 'display_data';\n",
              "          await google.colab.output.renderOutput(dataTable, element);\n",
              "          const docLink = document.createElement('div');\n",
              "          docLink.innerHTML = docLinkHtml;\n",
              "          element.appendChild(docLink);\n",
              "        }\n",
              "      </script>\n",
              "    </div>\n",
              "  </div>\n",
              "  "
            ],
            "text/plain": [
              "   Present_Tmax  Present_Tmin  LDAPS_RHmin  ...       DEM   Slope  Solar radiation\n",
              "0          27.9          19.9    58.964123  ...  212.3350  2.7850      5992.895996\n",
              "1          30.3          21.0    51.617828  ...   44.7624  0.5141      5869.312500\n",
              "2          30.2          22.5    47.538521  ...   33.3068  0.2661      5863.555664\n",
              "3          30.7          22.0    59.407711  ...   45.7160  2.5348      5856.964844\n",
              "4          31.0          21.8    55.004128  ...   35.0380  0.5055      5859.552246\n",
              "\n",
              "[5 rows x 21 columns]"
            ]
          },
          "metadata": {},
          "execution_count": 53
        }
      ]
    },
    {
      "cell_type": "code",
      "source": [
        "df_normalise_test = Normalize(df_test)\n",
        "#Normalising the data by calling Normalization function"
      ],
      "metadata": {
        "id": "AihdabuT9Gnt"
      },
      "execution_count": null,
      "outputs": []
    },
    {
      "cell_type": "code",
      "source": [
        "df_normalise_test\n",
        "#Analysing the normalised data"
      ],
      "metadata": {
        "id": "u97n18lojgKQ",
        "colab": {
          "base_uri": "https://localhost:8080/",
          "height": 505
        },
        "outputId": "c91cb3c4-1723-4295-8989-a83ace75a0bb"
      },
      "execution_count": null,
      "outputs": [
        {
          "output_type": "execute_result",
          "data": {
            "text/html": [
              "\n",
              "  <div id=\"df-710a32cb-bc33-4af8-abf1-24d32e089859\">\n",
              "    <div class=\"colab-df-container\">\n",
              "      <div>\n",
              "<style scoped>\n",
              "    .dataframe tbody tr th:only-of-type {\n",
              "        vertical-align: middle;\n",
              "    }\n",
              "\n",
              "    .dataframe tbody tr th {\n",
              "        vertical-align: top;\n",
              "    }\n",
              "\n",
              "    .dataframe thead th {\n",
              "        text-align: right;\n",
              "    }\n",
              "</style>\n",
              "<table border=\"1\" class=\"dataframe\">\n",
              "  <thead>\n",
              "    <tr style=\"text-align: right;\">\n",
              "      <th></th>\n",
              "      <th>Present_Tmax</th>\n",
              "      <th>Present_Tmin</th>\n",
              "      <th>LDAPS_RHmin</th>\n",
              "      <th>LDAPS_RHmax</th>\n",
              "      <th>LDAPS_Tmax_lapse</th>\n",
              "      <th>LDAPS_Tmin_lapse</th>\n",
              "      <th>LDAPS_WS</th>\n",
              "      <th>LDAPS_LH</th>\n",
              "      <th>LDAPS_CC1</th>\n",
              "      <th>LDAPS_CC2</th>\n",
              "      <th>LDAPS_CC3</th>\n",
              "      <th>LDAPS_CC4</th>\n",
              "      <th>LDAPS_PPT1</th>\n",
              "      <th>LDAPS_PPT2</th>\n",
              "      <th>LDAPS_PPT3</th>\n",
              "      <th>LDAPS_PPT4</th>\n",
              "      <th>lat</th>\n",
              "      <th>lon</th>\n",
              "      <th>DEM</th>\n",
              "      <th>Slope</th>\n",
              "      <th>Solar radiation</th>\n",
              "    </tr>\n",
              "  </thead>\n",
              "  <tbody>\n",
              "    <tr>\n",
              "      <th>0</th>\n",
              "      <td>-0.540282</td>\n",
              "      <td>-1.527817</td>\n",
              "      <td>-0.041005</td>\n",
              "      <td>1.508753</td>\n",
              "      <td>-0.915500</td>\n",
              "      <td>-1.206994</td>\n",
              "      <td>-0.279521</td>\n",
              "      <td>0.355374</td>\n",
              "      <td>-0.637037</td>\n",
              "      <td>-0.228241</td>\n",
              "      <td>0.188195</td>\n",
              "      <td>1.945708</td>\n",
              "      <td>-0.296257</td>\n",
              "      <td>-0.267125</td>\n",
              "      <td>-0.248088</td>\n",
              "      <td>-0.214160</td>\n",
              "      <td>1.181652</td>\n",
              "      <td>0.005432</td>\n",
              "      <td>2.746730</td>\n",
              "      <td>1.110813</td>\n",
              "      <td>1.526124</td>\n",
              "    </tr>\n",
              "    <tr>\n",
              "      <th>1</th>\n",
              "      <td>0.253602</td>\n",
              "      <td>-1.063689</td>\n",
              "      <td>-0.532041</td>\n",
              "      <td>0.275667</td>\n",
              "      <td>-0.184206</td>\n",
              "      <td>-0.329082</td>\n",
              "      <td>-0.387764</td>\n",
              "      <td>-0.227046</td>\n",
              "      <td>-0.654272</td>\n",
              "      <td>-0.207673</td>\n",
              "      <td>0.219228</td>\n",
              "      <td>1.844495</td>\n",
              "      <td>-0.296257</td>\n",
              "      <td>-0.267125</td>\n",
              "      <td>-0.248088</td>\n",
              "      <td>-0.209425</td>\n",
              "      <td>1.181652</td>\n",
              "      <td>0.525471</td>\n",
              "      <td>-0.317056</td>\n",
              "      <td>-0.540828</td>\n",
              "      <td>1.234596</td>\n",
              "    </tr>\n",
              "    <tr>\n",
              "      <th>2</th>\n",
              "      <td>0.220523</td>\n",
              "      <td>-0.430788</td>\n",
              "      <td>-0.804708</td>\n",
              "      <td>-0.329799</td>\n",
              "      <td>0.017776</td>\n",
              "      <td>-0.094702</td>\n",
              "      <td>-0.349395</td>\n",
              "      <td>-1.340776</td>\n",
              "      <td>-0.625399</td>\n",
              "      <td>-0.246484</td>\n",
              "      <td>0.138206</td>\n",
              "      <td>1.878749</td>\n",
              "      <td>-0.296257</td>\n",
              "      <td>-0.267125</td>\n",
              "      <td>-0.248088</td>\n",
              "      <td>-0.225646</td>\n",
              "      <td>0.646794</td>\n",
              "      <td>0.855252</td>\n",
              "      <td>-0.526502</td>\n",
              "      <td>-0.721201</td>\n",
              "      <td>1.221016</td>\n",
              "    </tr>\n",
              "    <tr>\n",
              "      <th>3</th>\n",
              "      <td>0.385916</td>\n",
              "      <td>-0.641755</td>\n",
              "      <td>-0.011355</td>\n",
              "      <td>1.656172</td>\n",
              "      <td>-0.452985</td>\n",
              "      <td>-0.981614</td>\n",
              "      <td>-0.083910</td>\n",
              "      <td>1.186788</td>\n",
              "      <td>-0.681741</td>\n",
              "      <td>-0.245673</td>\n",
              "      <td>0.089299</td>\n",
              "      <td>1.708808</td>\n",
              "      <td>-0.296257</td>\n",
              "      <td>-0.267125</td>\n",
              "      <td>-0.248088</td>\n",
              "      <td>-0.201766</td>\n",
              "      <td>1.981957</td>\n",
              "      <td>0.398632</td>\n",
              "      <td>-0.299621</td>\n",
              "      <td>0.928841</td>\n",
              "      <td>1.205469</td>\n",
              "    </tr>\n",
              "    <tr>\n",
              "      <th>4</th>\n",
              "      <td>0.485151</td>\n",
              "      <td>-0.726142</td>\n",
              "      <td>-0.305697</td>\n",
              "      <td>0.767718</td>\n",
              "      <td>-0.532406</td>\n",
              "      <td>-0.661995</td>\n",
              "      <td>-0.365214</td>\n",
              "      <td>1.174670</td>\n",
              "      <td>-0.733438</td>\n",
              "      <td>-0.286258</td>\n",
              "      <td>0.281684</td>\n",
              "      <td>1.868628</td>\n",
              "      <td>-0.296257</td>\n",
              "      <td>-0.267125</td>\n",
              "      <td>-0.248088</td>\n",
              "      <td>-0.223488</td>\n",
              "      <td>0.113918</td>\n",
              "      <td>1.831910</td>\n",
              "      <td>-0.494850</td>\n",
              "      <td>-0.547083</td>\n",
              "      <td>1.211572</td>\n",
              "    </tr>\n",
              "    <tr>\n",
              "      <th>...</th>\n",
              "      <td>...</td>\n",
              "      <td>...</td>\n",
              "      <td>...</td>\n",
              "      <td>...</td>\n",
              "      <td>...</td>\n",
              "      <td>...</td>\n",
              "      <td>...</td>\n",
              "      <td>...</td>\n",
              "      <td>...</td>\n",
              "      <td>...</td>\n",
              "      <td>...</td>\n",
              "      <td>...</td>\n",
              "      <td>...</td>\n",
              "      <td>...</td>\n",
              "      <td>...</td>\n",
              "      <td>...</td>\n",
              "      <td>...</td>\n",
              "      <td>...</td>\n",
              "      <td>...</td>\n",
              "      <td>...</td>\n",
              "      <td>...</td>\n",
              "    </tr>\n",
              "    <tr>\n",
              "      <th>1501</th>\n",
              "      <td>-2.128050</td>\n",
              "      <td>-2.413879</td>\n",
              "      <td>-2.332000</td>\n",
              "      <td>-1.416915</td>\n",
              "      <td>-0.588914</td>\n",
              "      <td>-2.237721</td>\n",
              "      <td>-0.167277</td>\n",
              "      <td>-1.475435</td>\n",
              "      <td>-1.210162</td>\n",
              "      <td>-1.322004</td>\n",
              "      <td>-1.435924</td>\n",
              "      <td>-1.315524</td>\n",
              "      <td>-0.296257</td>\n",
              "      <td>-0.267125</td>\n",
              "      <td>-0.248088</td>\n",
              "      <td>-0.234478</td>\n",
              "      <td>0.113918</td>\n",
              "      <td>0.626942</td>\n",
              "      <td>-0.654647</td>\n",
              "      <td>-0.498645</td>\n",
              "      <td>-2.099289</td>\n",
              "    </tr>\n",
              "    <tr>\n",
              "      <th>1502</th>\n",
              "      <td>-2.326521</td>\n",
              "      <td>-2.582653</td>\n",
              "      <td>-1.970665</td>\n",
              "      <td>-0.604932</td>\n",
              "      <td>-0.945596</td>\n",
              "      <td>-2.437270</td>\n",
              "      <td>-0.623625</td>\n",
              "      <td>0.544157</td>\n",
              "      <td>-1.156450</td>\n",
              "      <td>-1.344368</td>\n",
              "      <td>-1.435922</td>\n",
              "      <td>-1.263803</td>\n",
              "      <td>-0.296257</td>\n",
              "      <td>-0.267125</td>\n",
              "      <td>-0.248088</td>\n",
              "      <td>-0.234478</td>\n",
              "      <td>-0.688368</td>\n",
              "      <td>1.210400</td>\n",
              "      <td>-0.733836</td>\n",
              "      <td>-0.817860</td>\n",
              "      <td>-2.132835</td>\n",
              "    </tr>\n",
              "    <tr>\n",
              "      <th>1503</th>\n",
              "      <td>-2.061893</td>\n",
              "      <td>-2.709233</td>\n",
              "      <td>-2.194821</td>\n",
              "      <td>-1.325903</td>\n",
              "      <td>-1.059196</td>\n",
              "      <td>-2.044829</td>\n",
              "      <td>-0.415532</td>\n",
              "      <td>0.263256</td>\n",
              "      <td>-1.300751</td>\n",
              "      <td>-1.120675</td>\n",
              "      <td>-1.435924</td>\n",
              "      <td>-1.332560</td>\n",
              "      <td>-0.296257</td>\n",
              "      <td>-0.267125</td>\n",
              "      <td>-0.248088</td>\n",
              "      <td>-0.234478</td>\n",
              "      <td>-0.153511</td>\n",
              "      <td>-1.262955</td>\n",
              "      <td>-0.850469</td>\n",
              "      <td>-0.801714</td>\n",
              "      <td>-2.129272</td>\n",
              "    </tr>\n",
              "    <tr>\n",
              "      <th>1504</th>\n",
              "      <td>-2.061893</td>\n",
              "      <td>-2.456072</td>\n",
              "      <td>-2.375338</td>\n",
              "      <td>-1.561464</td>\n",
              "      <td>-0.847300</td>\n",
              "      <td>-2.062034</td>\n",
              "      <td>-0.200299</td>\n",
              "      <td>-0.427741</td>\n",
              "      <td>-1.277618</td>\n",
              "      <td>-1.144711</td>\n",
              "      <td>-1.435924</td>\n",
              "      <td>-1.332560</td>\n",
              "      <td>-0.296257</td>\n",
              "      <td>-0.267125</td>\n",
              "      <td>-0.248088</td>\n",
              "      <td>-0.234478</td>\n",
              "      <td>-0.420939</td>\n",
              "      <td>-1.034645</td>\n",
              "      <td>-0.819241</td>\n",
              "      <td>-0.753057</td>\n",
              "      <td>-2.140927</td>\n",
              "    </tr>\n",
              "    <tr>\n",
              "      <th>1505</th>\n",
              "      <td>-2.094971</td>\n",
              "      <td>-2.582653</td>\n",
              "      <td>-2.449373</td>\n",
              "      <td>-1.569127</td>\n",
              "      <td>-0.548082</td>\n",
              "      <td>-2.147960</td>\n",
              "      <td>0.207569</td>\n",
              "      <td>-1.490026</td>\n",
              "      <td>-1.225804</td>\n",
              "      <td>-1.204452</td>\n",
              "      <td>-1.435924</td>\n",
              "      <td>-1.329463</td>\n",
              "      <td>-0.296257</td>\n",
              "      <td>-0.267125</td>\n",
              "      <td>-0.248088</td>\n",
              "      <td>-0.234478</td>\n",
              "      <td>-0.420939</td>\n",
              "      <td>-0.260929</td>\n",
              "      <td>-0.777394</td>\n",
              "      <td>-0.717419</td>\n",
              "      <td>-2.110327</td>\n",
              "    </tr>\n",
              "  </tbody>\n",
              "</table>\n",
              "<p>1506 rows × 21 columns</p>\n",
              "</div>\n",
              "      <button class=\"colab-df-convert\" onclick=\"convertToInteractive('df-710a32cb-bc33-4af8-abf1-24d32e089859')\"\n",
              "              title=\"Convert this dataframe to an interactive table.\"\n",
              "              style=\"display:none;\">\n",
              "        \n",
              "  <svg xmlns=\"http://www.w3.org/2000/svg\" height=\"24px\"viewBox=\"0 0 24 24\"\n",
              "       width=\"24px\">\n",
              "    <path d=\"M0 0h24v24H0V0z\" fill=\"none\"/>\n",
              "    <path d=\"M18.56 5.44l.94 2.06.94-2.06 2.06-.94-2.06-.94-.94-2.06-.94 2.06-2.06.94zm-11 1L8.5 8.5l.94-2.06 2.06-.94-2.06-.94L8.5 2.5l-.94 2.06-2.06.94zm10 10l.94 2.06.94-2.06 2.06-.94-2.06-.94-.94-2.06-.94 2.06-2.06.94z\"/><path d=\"M17.41 7.96l-1.37-1.37c-.4-.4-.92-.59-1.43-.59-.52 0-1.04.2-1.43.59L10.3 9.45l-7.72 7.72c-.78.78-.78 2.05 0 2.83L4 21.41c.39.39.9.59 1.41.59.51 0 1.02-.2 1.41-.59l7.78-7.78 2.81-2.81c.8-.78.8-2.07 0-2.86zM5.41 20L4 18.59l7.72-7.72 1.47 1.35L5.41 20z\"/>\n",
              "  </svg>\n",
              "      </button>\n",
              "      \n",
              "  <style>\n",
              "    .colab-df-container {\n",
              "      display:flex;\n",
              "      flex-wrap:wrap;\n",
              "      gap: 12px;\n",
              "    }\n",
              "\n",
              "    .colab-df-convert {\n",
              "      background-color: #E8F0FE;\n",
              "      border: none;\n",
              "      border-radius: 50%;\n",
              "      cursor: pointer;\n",
              "      display: none;\n",
              "      fill: #1967D2;\n",
              "      height: 32px;\n",
              "      padding: 0 0 0 0;\n",
              "      width: 32px;\n",
              "    }\n",
              "\n",
              "    .colab-df-convert:hover {\n",
              "      background-color: #E2EBFA;\n",
              "      box-shadow: 0px 1px 2px rgba(60, 64, 67, 0.3), 0px 1px 3px 1px rgba(60, 64, 67, 0.15);\n",
              "      fill: #174EA6;\n",
              "    }\n",
              "\n",
              "    [theme=dark] .colab-df-convert {\n",
              "      background-color: #3B4455;\n",
              "      fill: #D2E3FC;\n",
              "    }\n",
              "\n",
              "    [theme=dark] .colab-df-convert:hover {\n",
              "      background-color: #434B5C;\n",
              "      box-shadow: 0px 1px 3px 1px rgba(0, 0, 0, 0.15);\n",
              "      filter: drop-shadow(0px 1px 2px rgba(0, 0, 0, 0.3));\n",
              "      fill: #FFFFFF;\n",
              "    }\n",
              "  </style>\n",
              "\n",
              "      <script>\n",
              "        const buttonEl =\n",
              "          document.querySelector('#df-710a32cb-bc33-4af8-abf1-24d32e089859 button.colab-df-convert');\n",
              "        buttonEl.style.display =\n",
              "          google.colab.kernel.accessAllowed ? 'block' : 'none';\n",
              "\n",
              "        async function convertToInteractive(key) {\n",
              "          const element = document.querySelector('#df-710a32cb-bc33-4af8-abf1-24d32e089859');\n",
              "          const dataTable =\n",
              "            await google.colab.kernel.invokeFunction('convertToInteractive',\n",
              "                                                     [key], {});\n",
              "          if (!dataTable) return;\n",
              "\n",
              "          const docLinkHtml = 'Like what you see? Visit the ' +\n",
              "            '<a target=\"_blank\" href=https://colab.research.google.com/notebooks/data_table.ipynb>data table notebook</a>'\n",
              "            + ' to learn more about interactive tables.';\n",
              "          element.innerHTML = '';\n",
              "          dataTable['output_type'] = 'display_data';\n",
              "          await google.colab.output.renderOutput(dataTable, element);\n",
              "          const docLink = document.createElement('div');\n",
              "          docLink.innerHTML = docLinkHtml;\n",
              "          element.appendChild(docLink);\n",
              "        }\n",
              "      </script>\n",
              "    </div>\n",
              "  </div>\n",
              "  "
            ],
            "text/plain": [
              "      Present_Tmax  Present_Tmin  ...     Slope  Solar radiation\n",
              "0        -0.540282     -1.527817  ...  1.110813         1.526124\n",
              "1         0.253602     -1.063689  ... -0.540828         1.234596\n",
              "2         0.220523     -0.430788  ... -0.721201         1.221016\n",
              "3         0.385916     -0.641755  ...  0.928841         1.205469\n",
              "4         0.485151     -0.726142  ... -0.547083         1.211572\n",
              "...            ...           ...  ...       ...              ...\n",
              "1501     -2.128050     -2.413879  ... -0.498645        -2.099289\n",
              "1502     -2.326521     -2.582653  ... -0.817860        -2.132835\n",
              "1503     -2.061893     -2.709233  ... -0.801714        -2.129272\n",
              "1504     -2.061893     -2.456072  ... -0.753057        -2.140927\n",
              "1505     -2.094971     -2.582653  ... -0.717419        -2.110327\n",
              "\n",
              "[1506 rows x 21 columns]"
            ]
          },
          "metadata": {},
          "execution_count": 55
        }
      ]
    },
    {
      "cell_type": "code",
      "source": [
        "predicted_values = Prediction(df_normalise_test,final_weight_pseudo)\n",
        "#Predicting the normalised values of Y using the weights from the best model"
      ],
      "metadata": {
        "id": "3YrGdZ6N9Gk0"
      },
      "execution_count": null,
      "outputs": []
    },
    {
      "cell_type": "code",
      "source": [
        "df_y_train = df_train['Next_Tmax'].values\n",
        "#Assigning the Y data from the training data set to a variable\n",
        "\n",
        "df_y_mean = df_y_train.mean()\n",
        "#finding the mean value of the Y from the train data\n",
        "\n",
        "df_y_std = df_y_train.std()\n",
        "#finding the standard deviation of the Y from the train data"
      ],
      "metadata": {
        "id": "-RRftvCukX2f"
      },
      "execution_count": null,
      "outputs": []
    },
    {
      "cell_type": "code",
      "source": [
        "final_predicted_values = (predicted_values * df_y_std) + df_y_mean\n",
        "#Denormalising the predicted value using the equation  y = (y'*std(y)) + mean(y)"
      ],
      "metadata": {
        "id": "_pZ77n16HRQ8"
      },
      "execution_count": null,
      "outputs": []
    },
    {
      "cell_type": "code",
      "source": [
        "final_predicted_values"
      ],
      "metadata": {
        "id": "YeD-dQOF9Gh8",
        "colab": {
          "base_uri": "https://localhost:8080/"
        },
        "outputId": "63ebea96-c0ac-49fe-a4b3-894a3233ba90"
      },
      "execution_count": null,
      "outputs": [
        {
          "output_type": "execute_result",
          "data": {
            "text/plain": [
              "array([27.39517851, 29.29981781, 29.4290554 , ..., 27.17821286,\n",
              "       27.2782725 , 27.2230141 ])"
            ]
          },
          "metadata": {},
          "execution_count": 59
        }
      ]
    },
    {
      "cell_type": "code",
      "source": [
        "#from google.colab import files\n",
        "#prediction_1 = pd.DataFrame(final_predicted_values)\n",
        "#prediction_1.to_csv('prediction1.csv',index = False)\n",
        "#files.download('prediction1.csv')"
      ],
      "metadata": {
        "id": "wN5w-GvQl5H5"
      },
      "execution_count": null,
      "outputs": []
    },
    {
      "cell_type": "markdown",
      "source": [
        "References\n",
        "\n",
        "https://numpy.org/ (for understanding numpy functions)\n",
        "\n",
        "https://towardsdatascience.com/gradient-descent-from-scratch-e8b75fa986cc\n",
        "\n",
        "https://medium.com/@IwriteDSblog/gradient-descent-for-multivariable-regression-in-python-d430eb5d2cd8\n",
        "\n",
        "https://towardsdatascience.com/intuitions-on-l1-and-l2-regularisation-235f2db4c261\n",
        "\n",
        "https://stackoverflow.com/questions/26333005/numpy-subtract-every-row-of-matrix-by-vector/26333184\n"
      ],
      "metadata": {
        "id": "X5xoNrdBYCGc"
      }
    }
  ],
  "metadata": {
    "kernelspec": {
      "display_name": "Python 3",
      "language": "python",
      "name": "python3"
    },
    "language_info": {
      "codemirror_mode": {
        "name": "ipython",
        "version": 3
      },
      "file_extension": ".py",
      "mimetype": "text/x-python",
      "name": "python",
      "nbconvert_exporter": "python",
      "pygments_lexer": "ipython3",
      "version": "3.8.3"
    },
    "colab": {
      "name": "Temperature Forecast system using Linear Regression coded from scratch.ipynb",
      "provenance": [],
      "collapsed_sections": []
    }
  },
  "nbformat": 4,
  "nbformat_minor": 0
}